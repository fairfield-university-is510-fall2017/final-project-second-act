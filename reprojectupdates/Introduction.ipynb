{
 "cells": [
  {
   "cell_type": "markdown",
   "metadata": {},
   "source": [
    "# **NCAA Track & Cross Country Results Projections and Analysis**\n",
    "\n",
    "# Cross Country - Fall\n",
    "### 31 Schools, 2 Genders\n",
    "### 7 Athletes - 5 impact **Team Score** - fastest 5 athletes on a given team wins\n",
    "### Women race 6k, Men race 10k\n",
    "### Courses Vary by terrain, distances sometimes imprecise\n",
    "### Project Fall Cross Country results from Track results in Spring\n",
    "\n",
    "# Track & Field - Spring\n",
    "### 21 events - *endurance* athletes may undertake 5 of these\n",
    "### Of these 5 *endurance* events, 3 are useful measurements of aerobic fitness\n",
    "### Use 3 aerobic events (1500m, 5000m, 10000m) to project team scores in Cross Country\n",
    "\n",
    "# Coaches - Fall\n",
    "### Men DI: 311 DII: 275 DIII: 401\n",
    "### Women DI: DII: 304, DIII: 423\n",
    "### Range: 1069 - 2056 Cross Country Coaches in NCAA\n",
    "### Client is a Division I Cross Country Coach at a Power 5 Conference\n",
    "### Coach spends 3 hours per week during 12 week season scouting results\n",
    "### All results available online, but different websites, sources, distances\n",
    "\n",
    "# Market\n",
    "### Median salary USD 31k per year, USD 536 per school spent scouting each year\n",
    "### *USD 570k-1.1mil* spent scouting in NCAA\n",
    "### USA High Schools, 10,233 teams sponsor Cross Country\n",
    "### Potentially *USD 6 million*\n",
    "\n",
    "# Physiological Conversion Data\n",
    "### Jack Daniels, PhD A.T. Still University Mesa, AZ\n",
    "### Altitude Training, 1968 Olympics\n",
    "### Project performance across different distances for individuals with a given fitness\n",
    "\n",
    "# Track Data\n",
    "#### http://www.rtspt.com/ncaa/d1outdoor17/\n",
    "\n",
    "# Cross Country Data\n",
    "#### https://www.tfrrs.org/results/xc/13423.html\n",
    "\n",
    "#### *Daniels' Running Formula, Thrid Edition*, Human Kinetics 2014\n",
    "#### http://www.ncaa.org/about/who-we-are/membership/composition-and-sport-sponsorship-ncaa-membership \n",
    "#### https://www.athletic.net/CrossCountry/"
   ]
  },
  {
   "cell_type": "markdown",
   "metadata": {},
   "source": [
    "# Tools Discovered\n",
    "\n",
    "\n",
    "# Scrape HTML onto Google Spreadsheet with student Gmail\n",
    "### =ImportHtml(\"https://www.tfrrs.org/results/xc/13423.html\", \"table\", 0)\n",
    "### Also Import(DATA, CSV, XML, Range, FEED) Editions\n",
    "\n",
    "# Deliminator\n",
    "### After scraping, separate data by spaces into separate columns"
   ]
  },
  {
   "cell_type": "code",
   "execution_count": null,
   "metadata": {
    "collapsed": true
   },
   "outputs": [],
   "source": []
  }
 ],
 "metadata": {
  "kernelspec": {
   "display_name": "Python 3",
   "language": "python",
   "name": "python3"
  },
  "language_info": {
   "codemirror_mode": {
    "name": "ipython",
    "version": 3
   },
   "file_extension": ".py",
   "mimetype": "text/x-python",
   "name": "python",
   "nbconvert_exporter": "python",
   "pygments_lexer": "ipython3",
   "version": "3.6.1"
  }
 },
 "nbformat": 4,
 "nbformat_minor": 2
}
