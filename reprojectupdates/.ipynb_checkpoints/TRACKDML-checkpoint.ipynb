{
 "cells": [
  {
   "cell_type": "code",
   "execution_count": 1,
   "metadata": {
    "collapsed": true
   },
   "outputs": [],
   "source": [
    "#Import pandas, sqlite3,\n",
    "import pandas as pd\n",
    "import sqlite3\n",
    "import sqlalchemy\n",
    "from urllib.request import urlretrieve\n",
    "from urllib.request import urlopen\n",
    "from io import StringIO\n",
    "import csv\n",
    "\n",
    "# Load the sql Jupyter extention needed for %sql magic.\n",
    "%load_ext sql"
   ]
  },
  {
   "cell_type": "code",
   "execution_count": 2,
   "metadata": {},
   "outputs": [
    {
     "data": {
      "text/plain": [
       "'Connected: None@Track.db'"
      ]
     },
     "execution_count": 2,
     "metadata": {},
     "output_type": "execute_result"
    }
   ],
   "source": [
    "%sql sqlite:///Track.db"
   ]
  },
  {
   "cell_type": "code",
   "execution_count": 3,
   "metadata": {
    "collapsed": true
   },
   "outputs": [],
   "source": [
    "TRACKDATA=pd.read_csv('MASTERDATASHEET.csv',encoding='latin1')"
   ]
  },
  {
   "cell_type": "code",
   "execution_count": 4,
   "metadata": {},
   "outputs": [
    {
     "name": "stdout",
     "output_type": "stream",
     "text": [
      "     First_Name         Last_Name    Event Year              School     Seed  \\\n",
      "0        Karisa            Nelson  EW 1.5K   JR             Samford  04:10.9   \n",
      "1        Elinor           Purrier  EW 1.5K   JR       New Hampshire  04:11.9   \n",
      "2         Hanna             Green  EW 1.5K   SR       Virginia Tech  04:12.3   \n",
      "3     Rhianwedd             Price  EW 1.5K   JR          Miss State  04:13.8   \n",
      "4         Angel        Piccirillo  EW 1.5K   SR           Villanova  04:14.1   \n",
      "5        Millie          Paladino  EW 1.5K   JR          Providence  04:14.8   \n",
      "6         Megan              Moye  EW 1.5K   SR            NC State  04:15.6   \n",
      "7      Danielle            Aragon  EW 1.5K   SR          Notre Dame  04:15.7   \n",
      "8         Danae            Rivers  EW 1.5K   FR          Penn State  04:16.3   \n",
      "9       Jessica            Harris  EW 1.5K   SO          Notre Dame  04:16.6   \n",
      "10      Frances          Schmiede  EW 1.5K   SR                Yale  04:17.5   \n",
      "11        Agnes               Abu  EW 1.5K   SR       Mid. Tenn. St  04:17.8   \n",
      "12       Jaimie            Phelan  EW 1.5K   JR            Michigan  04:17.8   \n",
      "13       Annika            Sisson  EW 1.5K   JR         Stony Brook  04:17.8   \n",
      "14       Ashley        Montgomery  EW 1.5K   SR                Penn  04:17.9   \n",
      "15        Helen  Schlachtenhaufen  EW 1.5K   SR           Dartmouth  04:18.2   \n",
      "16        Jamie         Morrissey  EW 1.5K   JR            Michigan  04:18.3   \n",
      "17        Erika              Kemp  EW 1.5K   JR            NC State  04:18.4   \n",
      "18       Nicole        Hutchinson  EW 1.5K   SO           Villanova  04:18.5   \n",
      "19    Alexandra             Lucki  EW 1.5K   JR            Maryland  04:18.9   \n",
      "20       Shelby             Brown  EW 1.5K   JR            Ole Miss  04:19.1   \n",
      "21      Shannon           Murdock  EW 1.5K   SO       New Hampshire  04:19.1   \n",
      "22      Heather           MacLean  EW 1.5K   JR       UMass Amherst  04:19.2   \n",
      "23      Aynslee         Van Graan  EW 1.5K   JR    Coastal Carolina  04:19.6   \n",
      "24       Taylor             Tubbs  EW 1.5K   SR             Florida  04:19.6   \n",
      "25      Kaitlin             Hanss  EW 1.5K   SR           Princeton  04:19.7   \n",
      "26        Grace           Barnett  EW 1.5K   JR             Clemson  04:19.9   \n",
      "27           S.      Brooke Moore  EW 1.5K   SO       Indiana State  04:20.0   \n",
      "28    Christine        Bendzinski  EW 1.5K   JR            Bucknell  04:20.1   \n",
      "29        Ffion             Price  EW 1.5K   SR          Miss State  04:20.6   \n",
      "...         ...               ...      ...  ...                 ...      ...   \n",
      "2278      Ethan             Moehn  CCM 10K   JR            Arkansas  32:05.4   \n",
      "2279       Noah          Kauppila  CCM 10K   SR           Princeton  32:05.8   \n",
      "2280     Andrew              Bull  CCM 10K   SR             Alabama  32:06.3   \n",
      "2281       Eric             Kroon  CCM 10K   JR               Texas  32:06.8   \n",
      "2282       Noah              Gade  CCM 10K   SR      Oklahoma State  32:09.6   \n",
      "2283    Kenneth             Hagen  CCM 10K   JR            Virginia  32:09.8   \n",
      "2284    Gabriel          Collison  CCM 10K   SR                Navy  32:13.2   \n",
      "2285       Paul              Ryan  CCM 10K   SO      Washington St.  32:14.1   \n",
      "2286    Patrick            Reilly  CCM 10K   SR              Lehigh  32:20.0   \n",
      "2287     Iliass            Aouani  CCM 10K   JR            Syracuse  32:21.3   \n",
      "2288       Josh             Hanna  CCM 10K   SR                Navy  32:22.6   \n",
      "2289     Daniel              Sims  CCM 10K   JR      Michigan State  32:29.9   \n",
      "2290     Johnny              Pace  CCM 10K   SO            Virginia  32:33.8   \n",
      "2291     Philip              Hall  CCM 10K   JR  North Carolina St.  32:34.5   \n",
      "2292      Garek         Bielaczyc  CCM 10K   SO               Texas  32:34.7   \n",
      "2293       Evan             Prizy  CCM 10K   SR             Alabama  32:40.0   \n",
      "2294     Andrew             Rafla  CCM 10K   JR         Boise State  32:40.7   \n",
      "2295   Wolfgang              Beck  CCM 10K   SR           Princeton  32:42.2   \n",
      "2296      James          Brinyark  CCM 10K   SO             Alabama  32:59.6   \n",
      "2297    Geoffry         Cheruiyot  CCM 10K   SR    Mid. Tenn. State  33:09.2   \n",
      "2298      Gavin           Parpart  CCM 10K   FR          Washington  33:16.9   \n",
      "2299      Jacob          Shewbert  CCM 10K   SO                Navy  33:19.4   \n",
      "2300       Jake            Finney  CCM 10K   JR      Washington St.  33:26.2   \n",
      "2301      Jacob           Bilvado  CCM 10K   JR           Air Force  33:43.8   \n",
      "2302      Brody             Smith  CCM 10K   FR          Utah State  34:50.1   \n",
      "2303     Nathan              Mack  CCM 10K   SO    Mid. Tenn. State  35:14.8   \n",
      "2304     Hlynur         Andresson  CCM 10K   SR    Eastern Michigan      DNF   \n",
      "2305    Michael             Karls  CCM 10K   JR                Navy      DNF   \n",
      "2306      James              West  CCM 10K   JR              Oregon      DNF   \n",
      "2307    Charles             Mills  CCM 10K   JR               Texas      DNF   \n",
      "\n",
      "     Gender  \n",
      "0         F  \n",
      "1         F  \n",
      "2         F  \n",
      "3         F  \n",
      "4         F  \n",
      "5         F  \n",
      "6         F  \n",
      "7         F  \n",
      "8         F  \n",
      "9         F  \n",
      "10        F  \n",
      "11        F  \n",
      "12        F  \n",
      "13        F  \n",
      "14        F  \n",
      "15        F  \n",
      "16        F  \n",
      "17        F  \n",
      "18        F  \n",
      "19        F  \n",
      "20        F  \n",
      "21        F  \n",
      "22        F  \n",
      "23        F  \n",
      "24        F  \n",
      "25        F  \n",
      "26        F  \n",
      "27        F  \n",
      "28        F  \n",
      "29        F  \n",
      "...     ...  \n",
      "2278      M  \n",
      "2279      M  \n",
      "2280      M  \n",
      "2281      M  \n",
      "2282      M  \n",
      "2283      M  \n",
      "2284      M  \n",
      "2285      M  \n",
      "2286      M  \n",
      "2287      M  \n",
      "2288      M  \n",
      "2289      M  \n",
      "2290      M  \n",
      "2291      M  \n",
      "2292      M  \n",
      "2293      M  \n",
      "2294      M  \n",
      "2295      M  \n",
      "2296      M  \n",
      "2297      M  \n",
      "2298      M  \n",
      "2299      M  \n",
      "2300      M  \n",
      "2301      M  \n",
      "2302      M  \n",
      "2303      M  \n",
      "2304      M  \n",
      "2305      M  \n",
      "2306      M  \n",
      "2307      M  \n",
      "\n",
      "[2308 rows x 7 columns]\n"
     ]
    }
   ],
   "source": [
    "print(TRACKDATA)\n"
   ]
  },
  {
   "cell_type": "code",
   "execution_count": null,
   "metadata": {
    "collapsed": true
   },
   "outputs": [],
   "source": []
  },
  {
   "cell_type": "code",
   "execution_count": 5,
   "metadata": {},
   "outputs": [
    {
     "name": "stdout",
     "output_type": "stream",
     "text": [
      "Done.\n",
      "Done.\n"
     ]
    },
    {
     "data": {
      "text/plain": [
       "[]"
      ]
     },
     "execution_count": 5,
     "metadata": {},
     "output_type": "execute_result"
    }
   ],
   "source": [
    "%%sql\n",
    "DROP TABLE IF EXISTS TRACKDATA;\n",
    "CREATE TABLE TRACKDATA (\n",
    "   MasterID INTEGER PRIMARY KEY,\n",
    "    RaceID INTEGER,\n",
    "    AthleteID INTEGER,\n",
    "    SchoolID INTEGER,\n",
    "    SeedID INTEGER,\n",
    "    YearID INTEGER,\n",
    "    Event TEXT NOT NULL,\n",
    "    Year TEXT,\n",
    "    Seed NUMERIC NOT NULL,\n",
    "    School TEXT,\n",
    "    First_Name TEXT NOT NULL,\n",
    "    Last_Name TEXT NOT NULL,\n",
    "    Gender TEXT NOT NULL\n",
    ");\n",
    "\n"
   ]
  },
  {
   "cell_type": "code",
   "execution_count": 6,
   "metadata": {
    "collapsed": true
   },
   "outputs": [],
   "source": [
    "conn = sqlite3.connect('Track.db')\n",
    "TRACKDATA.to_sql(\"TRACKDATA\", conn, if_exists=\"append\", index = False)"
   ]
  },
  {
   "cell_type": "code",
   "execution_count": 7,
   "metadata": {},
   "outputs": [
    {
     "name": "stdout",
     "output_type": "stream",
     "text": [
      "14 rows affected.\n"
     ]
    },
    {
     "data": {
      "text/plain": [
       "[]"
      ]
     },
     "execution_count": 7,
     "metadata": {},
     "output_type": "execute_result"
    }
   ],
   "source": [
    "%%sql\n",
    "\n",
    "INSERT INTO RACE \n",
    "SELECT distinct RaceID,Event\n",
    "FROM TRACKDATA;"
   ]
  },
  {
   "cell_type": "code",
   "execution_count": 8,
   "metadata": {},
   "outputs": [
    {
     "name": "stdout",
     "output_type": "stream",
     "text": [
      "1818 rows affected.\n"
     ]
    },
    {
     "data": {
      "text/plain": [
       "[]"
      ]
     },
     "execution_count": 8,
     "metadata": {},
     "output_type": "execute_result"
    }
   ],
   "source": [
    "%%sql\n",
    "INSERT INTO ATHLETE \n",
    "SELECT distinct AthleteID,First_Name,Last_Name,Gender\n",
    "FROM TRACKDATA;"
   ]
  },
  {
   "cell_type": "code",
   "execution_count": 9,
   "metadata": {},
   "outputs": [
    {
     "name": "stdout",
     "output_type": "stream",
     "text": [
      "242 rows affected.\n"
     ]
    },
    {
     "data": {
      "text/plain": [
       "[]"
      ]
     },
     "execution_count": 9,
     "metadata": {},
     "output_type": "execute_result"
    }
   ],
   "source": [
    "%%sql\n",
    "INSERT INTO SCHOOL \n",
    "SELECT distinct SchoolID,School\n",
    "FROM TRACKDATA;"
   ]
  },
  {
   "cell_type": "code",
   "execution_count": 10,
   "metadata": {},
   "outputs": [
    {
     "name": "stdout",
     "output_type": "stream",
     "text": [
      "1704 rows affected.\n"
     ]
    },
    {
     "data": {
      "text/plain": [
       "[]"
      ]
     },
     "execution_count": 10,
     "metadata": {},
     "output_type": "execute_result"
    }
   ],
   "source": [
    "%%sql\n",
    "INSERT INTO SEED \n",
    "SELECT distinct SeedID,Seed\n",
    "FROM TRACKDATA;"
   ]
  },
  {
   "cell_type": "code",
   "execution_count": 11,
   "metadata": {},
   "outputs": [
    {
     "name": "stdout",
     "output_type": "stream",
     "text": [
      "5 rows affected.\n"
     ]
    },
    {
     "data": {
      "text/plain": [
       "[]"
      ]
     },
     "execution_count": 11,
     "metadata": {},
     "output_type": "execute_result"
    }
   ],
   "source": [
    "%%sql\n",
    "INSERT INTO YEAR \n",
    "SELECT distinct YearID,Year\n",
    "FROM TRACKDATA;"
   ]
  },
  {
   "cell_type": "code",
   "execution_count": 12,
   "metadata": {
    "collapsed": true
   },
   "outputs": [],
   "source": [
    "#sql\n",
    "#INSERT INTO PERFORMANCE\n",
    "#SELECT distinct SchoolID,AthleteID,YearID,SeedID,RaceID\n",
    "#from SCHOOL,ATHLETE,YEAR,SEED,RACE;"
   ]
  },
  {
   "cell_type": "code",
   "execution_count": 13,
   "metadata": {
    "scrolled": true
   },
   "outputs": [
    {
     "name": "stdout",
     "output_type": "stream",
     "text": [
      "Done.\n"
     ]
    },
    {
     "data": {
      "text/html": [
       "<table>\n",
       "    <tr>\n",
       "        <th>cid</th>\n",
       "        <th>name</th>\n",
       "        <th>type</th>\n",
       "        <th>notnull</th>\n",
       "        <th>dflt_value</th>\n",
       "        <th>pk</th>\n",
       "    </tr>\n",
       "    <tr>\n",
       "        <td>0</td>\n",
       "        <td>MasterID</td>\n",
       "        <td>INTEGER</td>\n",
       "        <td>0</td>\n",
       "        <td>None</td>\n",
       "        <td>1</td>\n",
       "    </tr>\n",
       "    <tr>\n",
       "        <td>1</td>\n",
       "        <td>RaceID</td>\n",
       "        <td>INTEGER</td>\n",
       "        <td>0</td>\n",
       "        <td>None</td>\n",
       "        <td>0</td>\n",
       "    </tr>\n",
       "    <tr>\n",
       "        <td>2</td>\n",
       "        <td>AthleteID</td>\n",
       "        <td>INTEGER</td>\n",
       "        <td>0</td>\n",
       "        <td>None</td>\n",
       "        <td>0</td>\n",
       "    </tr>\n",
       "    <tr>\n",
       "        <td>3</td>\n",
       "        <td>SchoolID</td>\n",
       "        <td>INTEGER</td>\n",
       "        <td>0</td>\n",
       "        <td>None</td>\n",
       "        <td>0</td>\n",
       "    </tr>\n",
       "    <tr>\n",
       "        <td>4</td>\n",
       "        <td>SeedID</td>\n",
       "        <td>INTEGER</td>\n",
       "        <td>0</td>\n",
       "        <td>None</td>\n",
       "        <td>0</td>\n",
       "    </tr>\n",
       "    <tr>\n",
       "        <td>5</td>\n",
       "        <td>YearID</td>\n",
       "        <td>INTEGER</td>\n",
       "        <td>0</td>\n",
       "        <td>None</td>\n",
       "        <td>0</td>\n",
       "    </tr>\n",
       "    <tr>\n",
       "        <td>6</td>\n",
       "        <td>Event</td>\n",
       "        <td>TEXT</td>\n",
       "        <td>1</td>\n",
       "        <td>None</td>\n",
       "        <td>0</td>\n",
       "    </tr>\n",
       "    <tr>\n",
       "        <td>7</td>\n",
       "        <td>Year</td>\n",
       "        <td>TEXT</td>\n",
       "        <td>0</td>\n",
       "        <td>None</td>\n",
       "        <td>0</td>\n",
       "    </tr>\n",
       "    <tr>\n",
       "        <td>8</td>\n",
       "        <td>Seed</td>\n",
       "        <td>NUMERIC</td>\n",
       "        <td>1</td>\n",
       "        <td>None</td>\n",
       "        <td>0</td>\n",
       "    </tr>\n",
       "    <tr>\n",
       "        <td>9</td>\n",
       "        <td>School</td>\n",
       "        <td>TEXT</td>\n",
       "        <td>0</td>\n",
       "        <td>None</td>\n",
       "        <td>0</td>\n",
       "    </tr>\n",
       "    <tr>\n",
       "        <td>10</td>\n",
       "        <td>First_Name</td>\n",
       "        <td>TEXT</td>\n",
       "        <td>1</td>\n",
       "        <td>None</td>\n",
       "        <td>0</td>\n",
       "    </tr>\n",
       "    <tr>\n",
       "        <td>11</td>\n",
       "        <td>Last_Name</td>\n",
       "        <td>TEXT</td>\n",
       "        <td>1</td>\n",
       "        <td>None</td>\n",
       "        <td>0</td>\n",
       "    </tr>\n",
       "    <tr>\n",
       "        <td>12</td>\n",
       "        <td>Gender</td>\n",
       "        <td>TEXT</td>\n",
       "        <td>1</td>\n",
       "        <td>None</td>\n",
       "        <td>0</td>\n",
       "    </tr>\n",
       "</table>"
      ],
      "text/plain": [
       "[(0, 'MasterID', 'INTEGER', 0, None, 1),\n",
       " (1, 'RaceID', 'INTEGER', 0, None, 0),\n",
       " (2, 'AthleteID', 'INTEGER', 0, None, 0),\n",
       " (3, 'SchoolID', 'INTEGER', 0, None, 0),\n",
       " (4, 'SeedID', 'INTEGER', 0, None, 0),\n",
       " (5, 'YearID', 'INTEGER', 0, None, 0),\n",
       " (6, 'Event', 'TEXT', 1, None, 0),\n",
       " (7, 'Year', 'TEXT', 0, None, 0),\n",
       " (8, 'Seed', 'NUMERIC', 1, None, 0),\n",
       " (9, 'School', 'TEXT', 0, None, 0),\n",
       " (10, 'First_Name', 'TEXT', 1, None, 0),\n",
       " (11, 'Last_Name', 'TEXT', 1, None, 0),\n",
       " (12, 'Gender', 'TEXT', 1, None, 0)]"
      ]
     },
     "execution_count": 13,
     "metadata": {},
     "output_type": "execute_result"
    }
   ],
   "source": [
    "%sql pragma table_info('TRACKDATA');"
   ]
  },
  {
   "cell_type": "code",
   "execution_count": 17,
   "metadata": {},
   "outputs": [
    {
     "name": "stdout",
     "output_type": "stream",
     "text": [
      "Done.\n"
     ]
    },
    {
     "data": {
      "text/html": [
       "<table>\n",
       "    <tr>\n",
       "        <th>AthleteID</th>\n",
       "        <th>RaceID</th>\n",
       "        <th>YearID</th>\n",
       "        <th>SeedID</th>\n",
       "        <th>SchoolID</th>\n",
       "        <th>RaceID_1</th>\n",
       "        <th>Event</th>\n",
       "    </tr>\n",
       "</table>"
      ],
      "text/plain": [
       "[]"
      ]
     },
     "execution_count": 17,
     "metadata": {},
     "output_type": "execute_result"
    }
   ],
   "source": [
    "%%sql\n",
    "SELECT *\n",
    "FROM PERFORMANCE,RACE\n",
    "WHERE\n",
    "PERFORMANCE.RaceID = RACE.RaceID"
   ]
  },
  {
   "cell_type": "code",
   "execution_count": 14,
   "metadata": {
    "collapsed": true
   },
   "outputs": [],
   "source": [
    "#sql\n",
    "#SELECT *\n",
    "#from performance;"
   ]
  },
  {
   "cell_type": "code",
   "execution_count": 15,
   "metadata": {
    "collapsed": true
   },
   "outputs": [],
   "source": [
    "#print(_)"
   ]
  }
 ],
 "metadata": {
  "kernelspec": {
   "display_name": "Python 3",
   "language": "python",
   "name": "python3"
  },
  "language_info": {
   "codemirror_mode": {
    "name": "ipython",
    "version": 3
   },
   "file_extension": ".py",
   "mimetype": "text/x-python",
   "name": "python",
   "nbconvert_exporter": "python",
   "pygments_lexer": "ipython3",
   "version": "3.6.1"
  }
 },
 "nbformat": 4,
 "nbformat_minor": 2
}
